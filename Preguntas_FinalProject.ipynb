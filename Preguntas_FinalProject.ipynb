{
 "cells": [
  {
   "cell_type": "markdown",
   "id": "1e69ac4f-6b48-4ab7-bf1d-cc94fa4ca6f4",
   "metadata": {},
   "source": [
    "# PREGUNTAS DEL NEGOCIO"
   ]
  },
  {
   "cell_type": "markdown",
   "id": "01513b5c-9bff-40e3-b1f1-32f0f4f97328",
   "metadata": {},
   "source": [
    "### #1 ¿En qué fecha hubieron más ventas?\n"
   ]
  },
  {
   "cell_type": "markdown",
   "id": "d199694c-652a-4632-af5e-74afee52d6cf",
   "metadata": {},
   "source": [
    "La fecha con más ventas fue el 16 de julio de 2023 con 6 ventas\n"
   ]
  },
  {
   "cell_type": "markdown",
   "id": "08594d5b-de76-49af-a60b-164babd66ff5",
   "metadata": {},
   "source": [
    "### #2 ¿Cuál es la categoria mas vendida?"
   ]
  },
  {
   "cell_type": "markdown",
   "id": "a46ac3e2-3a3a-494b-ad4f-3193b9ceb022",
   "metadata": {},
   "source": [
    "La categoría más vendida es themselves"
   ]
  },
  {
   "cell_type": "markdown",
   "id": "2c073196-7b3f-4005-87b2-fbc830dbdf39",
   "metadata": {},
   "source": [
    "### #3. ¿Cuál es el articulo mas vendido?\n",
    "\n"
   ]
  },
  {
   "cell_type": "markdown",
   "id": "6d4ab391-0d45-4b43-a92b-557f3b2abb1c",
   "metadata": {},
   "source": [
    "El artículo más vendido se llama \"name\""
   ]
  },
  {
   "cell_type": "markdown",
   "id": "16a47bed-8cff-4b9c-acc0-f209f56c32c5",
   "metadata": {},
   "source": [
    "### #4. ¿En qué fecha se vende más \"x\" articulo (escojan el artículo)?\n",
    "\n"
   ]
  },
  {
   "cell_type": "markdown",
   "id": "1c532e0d-4773-417d-b90c-18efe9f0a534",
   "metadata": {},
   "source": [
    "En la categoría 22 = themselves y la fecha es la del 04 noviembre 2023 con 3 ventas"
   ]
  },
  {
   "cell_type": "markdown",
   "id": "ee9796dd-9c15-4e2c-abdf-011829b8166a",
   "metadata": {},
   "source": [
    "### #5 ¿Cuál es la fecha más baja de ventas?\n"
   ]
  },
  {
   "cell_type": "markdown",
   "id": "046fa6b3-dff6-4e27-b06e-666e72304c21",
   "metadata": {},
   "source": [
    "La fecha más baja de ventas con 1 venta fue el 13 abril de 2023"
   ]
  },
  {
   "cell_type": "markdown",
   "id": "02d56f37-126c-4343-ada0-3f5347864397",
   "metadata": {},
   "source": [
    "\n"
   ]
  }
 ],
 "metadata": {
  "kernelspec": {
   "display_name": "Python 3 (ipykernel)",
   "language": "python",
   "name": "python3"
  },
  "language_info": {
   "codemirror_mode": {
    "name": "ipython",
    "version": 3
   },
   "file_extension": ".py",
   "mimetype": "text/x-python",
   "name": "python",
   "nbconvert_exporter": "python",
   "pygments_lexer": "ipython3",
   "version": "3.11.5"
  }
 },
 "nbformat": 4,
 "nbformat_minor": 5
}
